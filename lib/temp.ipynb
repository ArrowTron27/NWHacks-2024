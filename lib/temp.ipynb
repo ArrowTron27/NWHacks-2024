{
 "cells": [
  {
   "cell_type": "code",
   "execution_count": 1,
   "metadata": {},
   "outputs": [],
   "source": [
    "import cv2\n",
    "import pytesseract\n",
    "import imutils\n",
    "import numpy as np\n",
    "from PIL import ImageGrab\n",
    "from pdf2image import convert_from_path\n",
    "import matplotlib.pyplot as plt\n",
    "import re\n",
    "import dateutil.parser as dparse"
   ]
  },
  {
   "cell_type": "code",
   "execution_count": 4,
   "metadata": {},
   "outputs": [],
   "source": [
    "def parseString(string_input):\n",
    "    try:\n",
    "        date = dparse.parse(string_input)\n",
    "        return date\n",
    "    except ValueError:\n",
    "        return None\n",
    "\n",
    "def findDates(string_input):\n",
    "    copy = string_input\n",
    "    list = copy.split()\n",
    "    date_list = []\n",
    "    while len(list) > 1:\n",
    "        string = list[0] + list[1]\n",
    "        dates = parseString(string)\n",
    "        if dates != None:\n",
    "            list.pop(0)\n",
    "            list.pop(0)\n",
    "            date_list.append(dates)\n",
    "        else:\n",
    "            list.pop(0)\n",
    "    return date_list\n",
    "\n",
    "def sort_contours(cnts):\n",
    "    reverse=False\n",
    "    i=0\n",
    "    boundingBoxes = [cv2.boundingRect(c) for c in cnts]\n",
    "    (cnts, boundingBoxes) = zip(*sorted(zip(cnts, boundingBoxes),\n",
    "    key=lambda b:b[1][i], reverse=reverse))\n",
    "    return(cnts, boundingBoxes)"
   ]
  },
  {
   "cell_type": "code",
   "execution_count": 5,
   "metadata": {},
   "outputs": [],
   "source": [
    "pytesseract.pytesseract.tesseract_cmd = r\"/bin/tesseract\"\n",
    "path_pdf = r\"test/BBAEngineerResume.pdf\"\n",
    "image = np.asarray(convert_from_path(path_pdf))[0]\n",
    "greyscale = cv2.cvtColor(image, cv2.COLOR_RGB2GRAY)\n",
    "ret, thresh = cv2.threshold(greyscale, 0, 255, cv2.THRESH_OTSU)\n",
    "rect_kernel = cv2.getStructuringElement(cv2.MORPH_RECT, (50,50))\n",
    "contours, hiearchy = cv2.findContours(thresh, cv2.RETR_EXTERNAL, cv2.CHAIN_APPROX_NONE)\n",
    "cnts, boundingBoxes = sort_contours(contours)\n",
    "letters = []\n",
    "for cnt in contours:\n",
    "    x,y,w,h = cv2.boundingRect(cnt)\n",
    "    rect = cv2.rectangle(image, (x,y), (x+w, y+h), (0, 255, 0), 2)\n",
    "    cropped = image[y:y+h, x:x+w]\n",
    "    text = pytesseract.image_to_string(cropped)\n",
    "    \n",
    "sentences = []\n",
    "sen = []\n",
    "for i in text:\n",
    "    if i != \"\\n\":\n",
    "        sen.append(i)\n",
    "    else:\n",
    "        # print(sen)\n",
    "        sentences.append(''.join(sen))\n",
    "        sen=[]"
   ]
  },
  {
   "cell_type": "code",
   "execution_count": 7,
   "metadata": {},
   "outputs": [
    {
     "name": "stdout",
     "output_type": "stream",
     "text": [
      "[]\n"
     ]
    }
   ],
   "source": [
    "place = None\n",
    "for i in range(len(sentences)):\n",
    "    if (re.search(\"experience\", sentences[i], re.IGNORECASE)) != None:\n",
    "        place = i + 1\n",
    "        break\n",
    "    \n",
    "dates = []\n",
    "for j in range(place, len(sentences)):\n",
    "    sen = sentences[j]\n",
    "    if (re.search(\"experience\", sen, re.IGNORECASE) != None):\n",
    "        break\n",
    "    elif (re.search(\"project\", sen, re.IGNORECASE) != None):\n",
    "        break\n",
    "    elif (re.search(\"education\", sen, re.IGNORECASE) != None):\n",
    "        break\n",
    "    elif (re.search(\"extracurricular\", sen, re.IGNORECASE) != None):\n",
    "        break\n",
    "    else:\n",
    "        dates = dates + findDates(sen)\n",
    "\n",
    "years = []\n",
    "for i in range(len(dates)):\n",
    "    years.append(dates[i].year)\n",
    "\n",
    "years = np.asarray(years)\n",
    "print(years)\n",
    "years = years[years > 999]\n",
    "\n",
    "# print((np.amax(years)-np.amin(years)) > 9)"
   ]
  },
  {
   "cell_type": "code",
   "execution_count": null,
   "metadata": {},
   "outputs": [],
   "source": []
  }
 ],
 "metadata": {
  "kernelspec": {
   "display_name": "Python 3 (ipykernel)",
   "language": "python",
   "name": "python3"
  },
  "language_info": {
   "codemirror_mode": {
    "name": "ipython",
    "version": 3
   },
   "file_extension": ".py",
   "mimetype": "text/x-python",
   "name": "python",
   "nbconvert_exporter": "python",
   "pygments_lexer": "ipython3",
   "version": "3.11.6"
  }
 },
 "nbformat": 4,
 "nbformat_minor": 2
}
